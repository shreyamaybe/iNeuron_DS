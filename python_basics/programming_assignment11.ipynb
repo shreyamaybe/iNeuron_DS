{
 "cells": [
  {
   "cell_type": "code",
   "execution_count": 46,
   "id": "672e39e5",
   "metadata": {},
   "outputs": [
    {
     "name": "stdout",
     "output_type": "stream",
     "text": [
      "Python\n",
      "language.\n"
     ]
    }
   ],
   "source": [
    "def word_check(k, strn):                      #1. words greater than given length\n",
    "    word = strn.split(\" \")\n",
    "    for i in word:\n",
    "        if len(i)>k:\n",
    "          print(i)\n",
    "k = 4\n",
    "strn =\"Python is a good and easy language.\"\n",
    "word_check(k, strn)"
   ]
  },
  {
   "cell_type": "code",
   "execution_count": 45,
   "id": "cc834a24",
   "metadata": {},
   "outputs": [
    {
     "data": {
      "text/plain": [
       "'hllo'"
      ]
     },
     "execution_count": 45,
     "metadata": {},
     "output_type": "execute_result"
    }
   ],
   "source": [
    "b='hello'                                    #2. removing i-th character\n",
    "i=2\n",
    "b1=b.replace('e', '')\n",
    "b1"
   ]
  },
  {
   "cell_type": "code",
   "execution_count": 34,
   "id": "cc7d9faa",
   "metadata": {},
   "outputs": [
    {
     "data": {
      "text/plain": [
       "['h', 'llo']"
      ]
     },
     "execution_count": 34,
     "metadata": {},
     "output_type": "execute_result"
    }
   ],
   "source": [
    "s='hello'                                     #3. split\n",
    "s.split('e')"
   ]
  },
  {
   "cell_type": "code",
   "execution_count": 41,
   "id": "53915413",
   "metadata": {},
   "outputs": [
    {
     "name": "stdout",
     "output_type": "stream",
     "text": [
      "hello world\n"
     ]
    }
   ],
   "source": [
    "c=['hello', ' ', 'world']                     #3. join\n",
    "print(''.join(c))"
   ]
  },
  {
   "cell_type": "code",
   "execution_count": 63,
   "id": "4dd0993a",
   "metadata": {},
   "outputs": [
    {
     "name": "stdout",
     "output_type": "stream",
     "text": [
      "non binary string.\n"
     ]
    }
   ],
   "source": [
    "d= '0110101010111B'                           #4. binary word or not\n",
    "e= {'0','1'}\n",
    "t = set(d)\n",
    "\n",
    "if e== t or t == {'0'} or t == {'1'}:\n",
    "    print(\"binary string.\")\n",
    "else:\n",
    "    print(\"non binary string.\")\n"
   ]
  },
  {
   "cell_type": "code",
   "execution_count": 7,
   "id": "a973d144",
   "metadata": {},
   "outputs": [
    {
     "name": "stdout",
     "output_type": "stream",
     "text": [
      " mango peach\n"
     ]
    }
   ],
   "source": [
    "def uncommon(s1,s2):                 #5. find uncommon words intwo strings\n",
    "    list_s1 = s1.split()\n",
    "    list_s2 = s2.split()\n",
    "    uc_words = \"\"\n",
    "    for i in list_s1:\n",
    "        if i not in list_s2:\n",
    "            uc_words =  uc_words+\" \"+i\n",
    "    for j in list_s2:\n",
    "        if j not in list_s1:\n",
    "             uc_words =  uc_words+\" \"+j\n",
    "  \n",
    "    return  uc_words\n",
    "  \n",
    "\n",
    "a = \"berry mango cherry\"\n",
    "b = \"berry peach cherry\"\n",
    "print(uncommon(a,b))"
   ]
  },
  {
   "cell_type": "code",
   "execution_count": null,
   "id": "6ab48a81",
   "metadata": {},
   "outputs": [],
   "source": []
  }
 ],
 "metadata": {
  "kernelspec": {
   "display_name": "Python 3 (ipykernel)",
   "language": "python",
   "name": "python3"
  },
  "language_info": {
   "codemirror_mode": {
    "name": "ipython",
    "version": 3
   },
   "file_extension": ".py",
   "mimetype": "text/x-python",
   "name": "python",
   "nbconvert_exporter": "python",
   "pygments_lexer": "ipython3",
   "version": "3.9.12"
  }
 },
 "nbformat": 4,
 "nbformat_minor": 5
}

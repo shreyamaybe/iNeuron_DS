{
 "cells": [
  {
   "cell_type": "code",
   "execution_count": null,
   "id": "71d2792d",
   "metadata": {},
   "outputs": [],
   "source": [
    "# programming assignment 12\n",
    "# shreya bag"
   ]
  },
  {
   "cell_type": "code",
   "execution_count": 2,
   "id": "2c099781",
   "metadata": {},
   "outputs": [
    {
     "name": "stdout",
     "output_type": "stream",
     "text": [
      "The original dictionary is : {'a': [2, 5, 6], 'b': [5, 7, 9], 'c': [7, 2, 10, 8]}\n",
      "The unique values list is : [2, 5, 6, 7, 8, 9, 10]\n"
     ]
    }
   ],
   "source": [
    "test1 = {'a' : [2, 5, 6],                                         #1. to extract unique values dictionary values\n",
    "        'b' : [5, 7, 9],\n",
    "        'c' : [7, 2, 10, 8]}\n",
    "\n",
    "print(\"The original dictionary is : \" + str(test1))\n",
    " \n",
    "result = list(sorted({ele for val in test1.values() for ele in val}))\n",
    "\n",
    "print(\"The unique values list is : \" + str(result))"
   ]
  },
  {
   "cell_type": "code",
   "execution_count": 3,
   "id": "87e6d3ed",
   "metadata": {},
   "outputs": [
    {
     "name": "stdout",
     "output_type": "stream",
     "text": [
      "30\n"
     ]
    }
   ],
   "source": [
    "def returnSum(myDict):                                           #2. to find the sum of all items in a dictionary\n",
    "    list = []\n",
    "    for i in myDict:\n",
    "        list.append(myDict[i])\n",
    "    final = sum(list)\n",
    " \n",
    "    return final\n",
    "    \n",
    "dict = {'a': 5,\n",
    "        'b': 10,\n",
    "        'c': 15}\n",
    "print(returnSum(dict))"
   ]
  },
  {
   "cell_type": "code",
   "execution_count": 4,
   "id": "2bc2414c",
   "metadata": {},
   "outputs": [
    {
     "name": "stdout",
     "output_type": "stream",
     "text": [
      "{'a': 'apple', 'b': 'banana', 'c': 'cat', 'd': 'dog'}\n"
     ]
    }
   ],
   "source": [
    "dict_1={'a' : 'apple',                                         #3. to morge two dictionaries\n",
    "        'b' : 'banana'}\n",
    "        \n",
    "dict_2={'c' : 'cat',\n",
    "        'd' : 'dog'}\n",
    "\n",
    "print(dict_1 | dict_2)"
   ]
  },
  {
   "cell_type": "code",
   "execution_count": 1,
   "id": "9ca3ab84",
   "metadata": {},
   "outputs": [
    {
     "name": "stdout",
     "output_type": "stream",
     "text": [
      "{'name': ['a', 'b', 'c'], 'age': [10, 15, 20]}\n",
      "{'a': 10, 'b': 15, 'c': 20}\n"
     ]
    }
   ],
   "source": [
    "test={'name' : ['a', 'b', 'c'],                                #4. to convert key-values list to flat dictionary\n",
    "        'age' : [10,15,20]}\n",
    "print(str(test))\n",
    "\n",
    "x=list(test.values())\n",
    "a=x[0]\n",
    "b=x[1]\n",
    "test1=dict()\n",
    "for i in range(0,len(a)):\n",
    "    test1[a[i]]=b[i]\n",
    "    \n",
    "print(str(test1))"
   ]
  },
  {
   "cell_type": "code",
   "execution_count": 2,
   "id": "d91d8259",
   "metadata": {},
   "outputs": [
    {
     "name": "stdout",
     "output_type": "stream",
     "text": [
      "OrderedDict([('manjeet', '3'), ('akshat', '1'), ('nikhil', '2')])\n"
     ]
    }
   ],
   "source": [
    "from collections import OrderedDict                            #5. to insertat the beginning of OrderedDict\n",
    "\n",
    "dic1 = OrderedDict([('akshat', '1'), ('nikhil', '2')])\n",
    " \n",
    "dic1.update({'manjeet':'3'})\n",
    "dic1.move_to_end('manjeet', last = False)\n",
    "\n",
    "\n",
    "print (str(dic1))"
   ]
  },
  {
   "cell_type": "code",
   "execution_count": 3,
   "id": "abad3d99",
   "metadata": {},
   "outputs": [
    {
     "name": "stdout",
     "output_type": "stream",
     "text": [
      "OrderedDict([('a', '2'), ('b', '15'), ('c', '10'), ('d', '32'), ('e', '9')])\n"
     ]
    }
   ],
   "source": [
    "from collections import OrderedDict                           #7. to sort Python Dictionaries by Key or Value\n",
    " \n",
    "dic = {'c': '10', 'e': '9',\n",
    "        'b': '15', 'a': '2', 'd': '32'}\n",
    "dic1 = OrderedDict(sorted(dic.items()))\n",
    "print(dic1)"
   ]
  },
  {
   "cell_type": "code",
   "execution_count": null,
   "id": "3d978e31",
   "metadata": {},
   "outputs": [],
   "source": []
  }
 ],
 "metadata": {
  "kernelspec": {
   "display_name": "Python 3 (ipykernel)",
   "language": "python",
   "name": "python3"
  },
  "language_info": {
   "codemirror_mode": {
    "name": "ipython",
    "version": 3
   },
   "file_extension": ".py",
   "mimetype": "text/x-python",
   "name": "python",
   "nbconvert_exporter": "python",
   "pygments_lexer": "ipython3",
   "version": "3.9.12"
  }
 },
 "nbformat": 4,
 "nbformat_minor": 5
}
